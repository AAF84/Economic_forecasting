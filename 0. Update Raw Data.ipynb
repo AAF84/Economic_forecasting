{
 "cells": [
  {
   "cell_type": "markdown",
   "id": "856ae489",
   "metadata": {},
   "source": [
    "# Update Raw Data"
   ]
  },
  {
   "cell_type": "markdown",
   "id": "309d2c8d",
   "metadata": {},
   "source": [
    "## Libraries, options, paths, and functions"
   ]
  },
  {
   "cell_type": "code",
   "execution_count": 11,
   "id": "7cf6e5ae",
   "metadata": {
    "tags": []
   },
   "outputs": [],
   "source": [
    "# import libraries\n",
    "import pandas as pd\n",
    "import numpy as np\n",
    "from stats_can import StatsCan\n",
    "import h5py\n",
    "\n",
    "# set options\n",
    "pd.set_option('display.float_format', '{:,.2f}'.format)\n",
    "\n",
    "# define paths\n",
    "sc = StatsCan(data_folder=\"./stats_can_data\")\n",
    "\n",
    "# define functions\n",
    "def get_raw_data_ca(mev):\n",
    "    result = sc.table_to_df(mev_names_ca['table'][mev])\n",
    "    result.columns = result.columns.str.lower()\n",
    "    result.columns = result.columns.str.replace(' ','_')\n",
    "    return result\n"
   ]
  },
  {
   "cell_type": "markdown",
   "id": "f7d4e6de",
   "metadata": {},
   "source": [
    "## Define variables"
   ]
  },
  {
   "cell_type": "code",
   "execution_count": 12,
   "id": "983fafe4",
   "metadata": {
    "tags": []
   },
   "outputs": [
    {
     "data": {
      "text/html": [
       "<div>\n",
       "<style scoped>\n",
       "    .dataframe tbody tr th:only-of-type {\n",
       "        vertical-align: middle;\n",
       "    }\n",
       "\n",
       "    .dataframe tbody tr th {\n",
       "        vertical-align: top;\n",
       "    }\n",
       "\n",
       "    .dataframe thead th {\n",
       "        text-align: right;\n",
       "    }\n",
       "</style>\n",
       "<table border=\"1\" class=\"dataframe\">\n",
       "  <thead>\n",
       "    <tr style=\"text-align: right;\">\n",
       "      <th></th>\n",
       "      <th>table</th>\n",
       "      <th>mev_description</th>\n",
       "    </tr>\n",
       "    <tr>\n",
       "      <th>mev</th>\n",
       "      <th></th>\n",
       "      <th></th>\n",
       "    </tr>\n",
       "  </thead>\n",
       "  <tbody>\n",
       "    <tr>\n",
       "      <th>pop</th>\n",
       "      <td>17-10-0009-01</td>\n",
       "      <td>Population</td>\n",
       "    </tr>\n",
       "    <tr>\n",
       "      <th>gdp</th>\n",
       "      <td>36-10-0104-01</td>\n",
       "      <td>Gross Domestic Product</td>\n",
       "    </tr>\n",
       "  </tbody>\n",
       "</table>\n",
       "</div>"
      ],
      "text/plain": [
       "             table         mev_description\n",
       "mev                                       \n",
       "pop  17-10-0009-01              Population\n",
       "gdp  36-10-0104-01  Gross Domestic Product"
      ]
     },
     "metadata": {},
     "output_type": "display_data"
    }
   ],
   "source": [
    "# define variable dictionary\n",
    "mev_names_ca = pd.DataFrame(np.array([['pop', '17-10-0009-01', 'Population'],\n",
    "                                 ['gdp', '36-10-0104-01', 'Gross Domestic Product']]),\n",
    "                       columns=['mev', 'table', 'mev_description'])\n",
    "mev_names_ca = mev_names_ca.set_index('mev')\n",
    "\n",
    "display(mev_names_ca)"
   ]
  },
  {
   "cell_type": "markdown",
   "id": "e79fc60f",
   "metadata": {},
   "source": [
    "## Get raw data"
   ]
  },
  {
   "cell_type": "code",
   "execution_count": 13,
   "id": "b1894110",
   "metadata": {},
   "outputs": [
    {
     "name": "stdout",
     "output_type": "stream",
     "text": [
      "Downloading and loading table_17100009\n"
     ]
    },
    {
     "name": "stderr",
     "output_type": "stream",
     "text": [
      "17100009-eng.zip: 100%|██████████| 28.8k/28.8k [00:00<00:00, 1.09MB/s]\n"
     ]
    },
    {
     "name": "stdout",
     "output_type": "stream",
     "text": [
      "Downloading and loading table_36100104\n"
     ]
    },
    {
     "name": "stderr",
     "output_type": "stream",
     "text": [
      "36100104-eng.zip: 100%|██████████| 628k/628k [00:00<00:00, 2.49MB/s]\n"
     ]
    }
   ],
   "source": [
    "pop_raw = get_raw_data_ca('pop')\n",
    "gdp_raw = get_raw_data_ca('gdp')"
   ]
  },
  {
   "cell_type": "markdown",
   "id": "2ef2b29e",
   "metadata": {},
   "source": [
    "## Pre-process raw data"
   ]
  },
  {
   "cell_type": "code",
   "execution_count": 14,
   "id": "a69f7913",
   "metadata": {},
   "outputs": [
    {
     "data": {
      "text/html": [
       "<div>\n",
       "<style scoped>\n",
       "    .dataframe tbody tr th:only-of-type {\n",
       "        vertical-align: middle;\n",
       "    }\n",
       "\n",
       "    .dataframe tbody tr th {\n",
       "        vertical-align: top;\n",
       "    }\n",
       "\n",
       "    .dataframe thead th {\n",
       "        text-align: right;\n",
       "    }\n",
       "</style>\n",
       "<table border=\"1\" class=\"dataframe\">\n",
       "  <thead>\n",
       "    <tr style=\"text-align: right;\">\n",
       "      <th></th>\n",
       "      <th>ref_date</th>\n",
       "      <th>geo</th>\n",
       "      <th>pop_ca</th>\n",
       "    </tr>\n",
       "  </thead>\n",
       "  <tbody>\n",
       "    <tr>\n",
       "      <th>3825</th>\n",
       "      <td>2022-04-01</td>\n",
       "      <td>Canada</td>\n",
       "      <td>38644920</td>\n",
       "    </tr>\n",
       "    <tr>\n",
       "      <th>3839</th>\n",
       "      <td>2022-07-01</td>\n",
       "      <td>Canada</td>\n",
       "      <td>38929902</td>\n",
       "    </tr>\n",
       "    <tr>\n",
       "      <th>3853</th>\n",
       "      <td>2022-10-01</td>\n",
       "      <td>Canada</td>\n",
       "      <td>39292355</td>\n",
       "    </tr>\n",
       "    <tr>\n",
       "      <th>3867</th>\n",
       "      <td>2023-01-01</td>\n",
       "      <td>Canada</td>\n",
       "      <td>39566248</td>\n",
       "    </tr>\n",
       "    <tr>\n",
       "      <th>3881</th>\n",
       "      <td>2023-04-01</td>\n",
       "      <td>Canada</td>\n",
       "      <td>39858480</td>\n",
       "    </tr>\n",
       "  </tbody>\n",
       "</table>\n",
       "</div>"
      ],
      "text/plain": [
       "       ref_date     geo    pop_ca\n",
       "3825 2022-04-01  Canada  38644920\n",
       "3839 2022-07-01  Canada  38929902\n",
       "3853 2022-10-01  Canada  39292355\n",
       "3867 2023-01-01  Canada  39566248\n",
       "3881 2023-04-01  Canada  39858480"
      ]
     },
     "metadata": {},
     "output_type": "display_data"
    }
   ],
   "source": [
    "# pop\n",
    "\n",
    "pop_ca = pop_raw[['ref_date','geo','value']].query('geo==\"Canada\"')\n",
    "pop_ca = pop_ca.rename({'value': 'pop_ca'}, axis=1)\n",
    "pop_ca['pop_ca'] = pop_ca['pop_ca'].astype(int)\n",
    "\n",
    "display(pop_ca.tail())\n",
    "# display(pop_ca.info())"
   ]
  },
  {
   "cell_type": "code",
   "execution_count": 15,
   "id": "e93c586b",
   "metadata": {},
   "outputs": [
    {
     "data": {
      "text/html": [
       "<div>\n",
       "<style scoped>\n",
       "    .dataframe tbody tr th:only-of-type {\n",
       "        vertical-align: middle;\n",
       "    }\n",
       "\n",
       "    .dataframe tbody tr th {\n",
       "        vertical-align: top;\n",
       "    }\n",
       "\n",
       "    .dataframe thead th {\n",
       "        text-align: right;\n",
       "    }\n",
       "</style>\n",
       "<table border=\"1\" class=\"dataframe\">\n",
       "  <thead>\n",
       "    <tr style=\"text-align: right;\">\n",
       "      <th></th>\n",
       "      <th>ref_date</th>\n",
       "      <th>geo</th>\n",
       "      <th>gdp_ca</th>\n",
       "    </tr>\n",
       "  </thead>\n",
       "  <tbody>\n",
       "    <tr>\n",
       "      <th>44247</th>\n",
       "      <td>2022-01-01</td>\n",
       "      <td>Canada</td>\n",
       "      <td>2155250</td>\n",
       "    </tr>\n",
       "    <tr>\n",
       "      <th>44399</th>\n",
       "      <td>2022-04-01</td>\n",
       "      <td>Canada</td>\n",
       "      <td>2174582</td>\n",
       "    </tr>\n",
       "    <tr>\n",
       "      <th>44551</th>\n",
       "      <td>2022-07-01</td>\n",
       "      <td>Canada</td>\n",
       "      <td>2186724</td>\n",
       "    </tr>\n",
       "    <tr>\n",
       "      <th>44703</th>\n",
       "      <td>2022-10-01</td>\n",
       "      <td>Canada</td>\n",
       "      <td>2185910</td>\n",
       "    </tr>\n",
       "    <tr>\n",
       "      <th>44855</th>\n",
       "      <td>2023-01-01</td>\n",
       "      <td>Canada</td>\n",
       "      <td>2202921</td>\n",
       "    </tr>\n",
       "  </tbody>\n",
       "</table>\n",
       "</div>"
      ],
      "text/plain": [
       "        ref_date     geo   gdp_ca\n",
       "44247 2022-01-01  Canada  2155250\n",
       "44399 2022-04-01  Canada  2174582\n",
       "44551 2022-07-01  Canada  2186724\n",
       "44703 2022-10-01  Canada  2185910\n",
       "44855 2023-01-01  Canada  2202921"
      ]
     },
     "metadata": {},
     "output_type": "display_data"
    }
   ],
   "source": [
    "# gdp\n",
    "\n",
    "gdp_ca = gdp_raw[['ref_date',\n",
    "                  'geo',\n",
    "                  'prices',\n",
    "                  'seasonal_adjustment',\n",
    "                  'estimates',\n",
    "                  'value']].query('geo==\"Canada\" & \\\n",
    "                                   prices==\"Chained (2012) dollars\" & \\\n",
    "                                   seasonal_adjustment==\"Seasonally adjusted at annual rates\" & \\\n",
    "                                   estimates==\"Gross domestic product at market prices\"')\n",
    "gdp_ca = gdp_ca[['ref_date','geo','value']].rename({'value': 'gdp_ca'}, axis=1)\n",
    "gdp_ca['gdp_ca'] = gdp_ca['gdp_ca'].astype(int)\n",
    "\n",
    "display(gdp_ca.tail())\n",
    "# display(gdp_ca.info())"
   ]
  },
  {
   "cell_type": "markdown",
   "id": "9bb5d4e1",
   "metadata": {},
   "source": [
    "## Combine and save processed data"
   ]
  },
  {
   "cell_type": "code",
   "execution_count": 16,
   "id": "7d9b69ba",
   "metadata": {},
   "outputs": [
    {
     "data": {
      "text/html": [
       "<div>\n",
       "<style scoped>\n",
       "    .dataframe tbody tr th:only-of-type {\n",
       "        vertical-align: middle;\n",
       "    }\n",
       "\n",
       "    .dataframe tbody tr th {\n",
       "        vertical-align: top;\n",
       "    }\n",
       "\n",
       "    .dataframe thead th {\n",
       "        text-align: right;\n",
       "    }\n",
       "</style>\n",
       "<table border=\"1\" class=\"dataframe\">\n",
       "  <thead>\n",
       "    <tr style=\"text-align: right;\">\n",
       "      <th></th>\n",
       "      <th>ref_date</th>\n",
       "      <th>geo</th>\n",
       "      <th>pop_ca</th>\n",
       "      <th>gdp_ca</th>\n",
       "    </tr>\n",
       "  </thead>\n",
       "  <tbody>\n",
       "    <tr>\n",
       "      <th>244</th>\n",
       "      <td>2022-01-01</td>\n",
       "      <td>Canada</td>\n",
       "      <td>38516138</td>\n",
       "      <td>2155250</td>\n",
       "    </tr>\n",
       "    <tr>\n",
       "      <th>245</th>\n",
       "      <td>2022-04-01</td>\n",
       "      <td>Canada</td>\n",
       "      <td>38644920</td>\n",
       "      <td>2174582</td>\n",
       "    </tr>\n",
       "    <tr>\n",
       "      <th>246</th>\n",
       "      <td>2022-07-01</td>\n",
       "      <td>Canada</td>\n",
       "      <td>38929902</td>\n",
       "      <td>2186724</td>\n",
       "    </tr>\n",
       "    <tr>\n",
       "      <th>247</th>\n",
       "      <td>2022-10-01</td>\n",
       "      <td>Canada</td>\n",
       "      <td>39292355</td>\n",
       "      <td>2185910</td>\n",
       "    </tr>\n",
       "    <tr>\n",
       "      <th>248</th>\n",
       "      <td>2023-01-01</td>\n",
       "      <td>Canada</td>\n",
       "      <td>39566248</td>\n",
       "      <td>2202921</td>\n",
       "    </tr>\n",
       "  </tbody>\n",
       "</table>\n",
       "</div>"
      ],
      "text/plain": [
       "      ref_date     geo    pop_ca   gdp_ca\n",
       "244 2022-01-01  Canada  38516138  2155250\n",
       "245 2022-04-01  Canada  38644920  2174582\n",
       "246 2022-07-01  Canada  38929902  2186724\n",
       "247 2022-10-01  Canada  39292355  2185910\n",
       "248 2023-01-01  Canada  39566248  2202921"
      ]
     },
     "metadata": {},
     "output_type": "display_data"
    }
   ],
   "source": [
    "# create combined dataset\n",
    "\n",
    "raw_mevs_ca = pop_ca.merge(gdp_ca[['ref_date','geo','gdp_ca']], on=['ref_date','geo'], how='inner')\n",
    "display(raw_mevs_ca.tail())\n",
    "\n",
    "save = pd.HDFStore('./stats_can_data/raw_mevs_ca.hdf5')\n",
    "save.put('raw_mevs_ca', raw_mevs_ca)\n",
    "metadata = {'scale':0.1,'offset':15}\n",
    "save.get_storer('raw_mevs_ca').attrs.metadata = metadata\n",
    "save.close()\n",
    "\n"
   ]
  },
  {
   "cell_type": "code",
   "execution_count": null,
   "id": "25569bf2",
   "metadata": {},
   "outputs": [],
   "source": []
  }
 ],
 "metadata": {
  "kernelspec": {
   "display_name": "Python 3 (ipykernel)",
   "language": "python",
   "name": "python3"
  },
  "language_info": {
   "codemirror_mode": {
    "name": "ipython",
    "version": 3
   },
   "file_extension": ".py",
   "mimetype": "text/x-python",
   "name": "python",
   "nbconvert_exporter": "python",
   "pygments_lexer": "ipython3",
   "version": "3.11.3"
  },
  "toc": {
   "base_numbering": 1,
   "nav_menu": {},
   "number_sections": true,
   "sideBar": true,
   "skip_h1_title": true,
   "title_cell": "Table of Contents",
   "title_sidebar": "Contents",
   "toc_cell": false,
   "toc_position": {},
   "toc_section_display": true,
   "toc_window_display": true
  }
 },
 "nbformat": 4,
 "nbformat_minor": 5
}
